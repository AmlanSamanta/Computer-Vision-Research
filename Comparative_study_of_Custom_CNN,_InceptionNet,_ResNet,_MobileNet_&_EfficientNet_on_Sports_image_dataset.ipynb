{
  "nbformat": 4,
  "nbformat_minor": 0,
  "metadata": {
    "colab": {
      "private_outputs": true,
      "provenance": [],
      "mount_file_id": "1oZu49Z-tvl2zLv8cPJ2lF1ETDrgBU3B8",
      "authorship_tag": "ABX9TyMnd8EnYmAbJIXMBiXpqZIq"
    },
    "kernelspec": {
      "name": "python3",
      "display_name": "Python 3"
    },
    "language_info": {
      "name": "python"
    },
    "accelerator": "GPU",
    "gpuClass": "standard"
  },
  "cells": [
    {
      "cell_type": "code",
      "source": [
        "import tensorflow as tf\n",
        "from tensorflow.keras.utils import image_dataset_from_directory\n",
        "from tensorflow.keras.models import Sequential\n",
        "from tensorflow.keras import layers\n",
        "from tensorflow.keras.layers import (\n",
        "    Dense,\n",
        "    Conv2D,\n",
        "    MaxPooling2D,\n",
        "    Flatten,\n",
        "    BatchNormalization,\n",
        "    Dropout,\n",
        ")\n",
        "\n",
        "import matplotlib.pyplot as plt\n",
        "import numpy as np\n",
        "from sklearn.metrics import classification_report"
      ],
      "metadata": {
        "id": "cRdbMuCOyXgr"
      },
      "execution_count": null,
      "outputs": []
    },
    {
      "cell_type": "code",
      "execution_count": null,
      "metadata": {
        "id": "iKcF-wnWZMIp"
      },
      "outputs": [],
      "source": [
        "def plot_accuracy(history):\n",
        "  plt.plot(history.history[\"accuracy\"], label=\"train\")\n",
        "  plt.plot(history.history[\"val_accuracy\"], label=\"validation\")\n",
        "  plt.legend()\n",
        "  plt.show()\n",
        "\n",
        "def plot_loss(history):\n",
        "  plt.plot(history.history[\"loss\"], label=\"train\")\n",
        "  plt.plot(history.history[\"val_loss\"], label=\"validation\")\n",
        "  plt.legend()\n",
        "  plt.show()"
      ]
    },
    {
      "cell_type": "markdown",
      "source": [
        "## The dataset can be downloaded from [Kaggle](https://www.kaggle.com/datasets/gpiosenka/sports-classification)."
      ],
      "metadata": {
        "id": "lTRQXqKY2UYx"
      }
    },
    {
      "cell_type": "code",
      "source": [
        "train_ds = image_dataset_from_directory(\n",
        "    directory=\"/content/drive/MyDrive/sportsdata/train\",   \n",
        "    label_mode=\"int\",\n",
        "    batch_size=64,\n",
        "    image_size=(256, 256),\n",
        ")\n",
        "\n",
        "validation_ds = image_dataset_from_directory(\n",
        "    directory=\"/content/drive/MyDrive/sportsdata/valid\",   \n",
        "    labels=\"inferred\",\n",
        "    label_mode=\"int\",\n",
        "    batch_size=64,\n",
        "    image_size=(256, 256),\n",
        ")\n",
        "\n",
        "test_ds = image_dataset_from_directory(\n",
        "    directory=\"/content/drive/MyDrive/sportsdata/test\",     \n",
        "    labels=\"inferred\",\n",
        "    label_mode=\"int\",\n",
        "    batch_size=64,\n",
        "    image_size=(256, 256),\n",
        ")\n",
        "\n",
        "normalization_layer = layers.Rescaling(1./255)\n",
        "train_ds = train_ds.map(lambda x,y: (normalization_layer(x),y))\n",
        "validation_ds = validation_ds.map(lambda x,y: (normalization_layer(x),y))\n",
        "test_ds = test_ds.map(lambda x,y: (normalization_layer(x),y))"
      ],
      "metadata": {
        "id": "87kLUTI7zYU6"
      },
      "execution_count": null,
      "outputs": []
    },
    {
      "cell_type": "markdown",
      "source": [
        "###CUSTOM CNN"
      ],
      "metadata": {
        "id": "i3OcDnELdeXN"
      }
    },
    {
      "cell_type": "code",
      "source": [
        "model = Sequential()\n",
        "model.add(Conv2D(128,kernel_size=(3, 3),padding=\"valid\",activation=\"leaky_relu\",input_shape=(256, 256, 3)))\n",
        "model.add(BatchNormalization())\n",
        "model.add(MaxPooling2D(pool_size=(2, 2), strides=2, padding=\"valid\"))\n",
        "model.add(Conv2D(64, kernel_size=(3, 3), padding=\"valid\", activation=\"leaky_relu\"))\n",
        "model.add(BatchNormalization())\n",
        "model.add(MaxPooling2D(pool_size=(2, 2), strides=2, padding=\"valid\"))\n",
        "model.add(Conv2D(32, kernel_size=(3, 3), padding=\"valid\", activation=\"leaky_relu\"))\n",
        "model.add(BatchNormalization())\n",
        "model.add(MaxPooling2D(pool_size=(2, 2), strides=2, padding=\"valid\"))\n",
        "model.add(Flatten())\n",
        "model.add(Dense(512, activation=\"leaky_relu\"))\n",
        "model.add(Dropout(0.1))\n",
        "model.add(Dense(256, activation=\"leaky_relu\"))\n",
        "model.add(Dropout(0.1))\n",
        "model.add(Dense(128, activation=\"leaky_relu\"))\n",
        "model.add(Dropout(0.1))\n",
        "model.add(Dense(100, activation=\"softmax\"))\n",
        "\n",
        "\n",
        "model.compile(\n",
        "    optimizer=\"adam\", loss=\"sparse_categorical_crossentropy\", metrics=[\"accuracy\"]\n",
        ")\n",
        "\n",
        "callbacks = [\n",
        "tf.keras.callbacks.ModelCheckpoint(\"custom/sportsModelCustom_epoch{epoch}.h5\"),\n",
        "tf.keras.callbacks.EarlyStopping(\n",
        "        monitor='loss',\n",
        "        patience=2,\n",
        "        verbose=1,\n",
        "        restore_best_weights='True'\n",
        " ),\n",
        "tf.keras.callbacks.TensorBoard('tb_logs/custom')\n",
        "]\n",
        "\n",
        "history = model.fit(\n",
        "    train_ds,\n",
        "    epochs=50,\n",
        "    batch_size=32,\n",
        "    callbacks=callbacks,\n",
        "    validation_data=validation_ds,\n",
        ")\n",
        "\n",
        "plot_loss(history)\n",
        "plot_accuracy(history)"
      ],
      "metadata": {
        "id": "9mqzVSbzbPMi"
      },
      "execution_count": null,
      "outputs": []
    },
    {
      "cell_type": "markdown",
      "source": [
        "### INCEPTION V3"
      ],
      "metadata": {
        "id": "K2iy5mDWdltX"
      }
    },
    {
      "cell_type": "code",
      "source": [
        "\n",
        "from tensorflow.keras.applications import InceptionV3\n",
        "\n",
        "inception = InceptionV3(\n",
        "    input_shape=(256, 256, 3), include_top=False, weights=\"imagenet\", classes=100\n",
        ")\n",
        "inception.trainable = False\n",
        "modelIncep = Sequential()\n",
        "modelIncep.add(inception)\n",
        "modelIncep.add(Flatten())\n",
        "modelIncep.add(Dropout(0.1))\n",
        "modelIncep.add(Dense(256, activation=\"leaky_relu\"))\n",
        "modelIncep.add(Dropout(0.1))\n",
        "modelIncep.add(Dense(128, activation=\"leaky_relu\"))\n",
        "modelIncep.add(Dropout(0.1))\n",
        "modelIncep.add(Dense(100, activation=\"softmax\"))\n",
        "\n",
        "modelIncep.compile(\n",
        "    optimizer=\"adam\", loss=\"sparse_categorical_crossentropy\", metrics=[\"accuracy\"]\n",
        ")\n",
        "\n",
        "callbacks = [\n",
        "tf.keras.callbacks.ModelCheckpoint(\"incep/sportsModelInception_epoch{epoch}.h5\"),\n",
        "tf.keras.callbacks.EarlyStopping(\n",
        "        monitor='loss',\n",
        "        patience=2,\n",
        "        verbose=1,\n",
        "        restore_best_weights='True'\n",
        " ),\n",
        "tf.keras.callbacks.TensorBoard('tb_logs/incep')\n",
        "]\n",
        "\n",
        "history = modelIncep.fit(\n",
        "    train_ds,\n",
        "    epochs=50,\n",
        "    batch_size=32,\n",
        "    callbacks=callbacks,\n",
        "    validation_data=validation_ds,\n",
        ")\n",
        "\n",
        "plot_loss(history)\n",
        "plot_accuracy(history)"
      ],
      "metadata": {
        "id": "fqoNZcVRdavV"
      },
      "execution_count": null,
      "outputs": []
    },
    {
      "cell_type": "markdown",
      "source": [
        "## RESNET"
      ],
      "metadata": {
        "id": "3Op9IzHgfEcr"
      }
    },
    {
      "cell_type": "code",
      "source": [
        "from tensorflow.keras.applications import ResNet50V2\n",
        "\n",
        "resnet = ResNet50V2(\n",
        "    input_shape=(256, 256, 3), include_top=False, weights=\"imagenet\", classes=100\n",
        ")\n",
        "resnet.trainable = False\n",
        "modelRes = Sequential()\n",
        "modelRes.add(resnet)\n",
        "modelRes.add(Flatten())\n",
        "modelRes.add(Dropout(0.1))\n",
        "modelRes.add(Dense(256, activation=\"leaky_relu\"))\n",
        "modelRes.add(Dropout(0.1))\n",
        "modelRes.add(Dense(128, activation=\"leaky_relu\"))\n",
        "modelRes.add(Dropout(0.1))\n",
        "modelRes.add(Dense(100, activation=\"softmax\"))\n",
        "\n",
        "modelRes.compile(\n",
        "    optimizer=\"adam\", loss=\"sparse_categorical_crossentropy\", metrics=[\"accuracy\"]\n",
        ")\n",
        "\n",
        "callbacks = [\n",
        "tf.keras.callbacks.ModelCheckpoint(\"res/sportsModelResidual_epoch{epoch}.h5\"),\n",
        "tf.keras.callbacks.EarlyStopping(\n",
        "        monitor='loss',\n",
        "        patience=2,\n",
        "        verbose=1,\n",
        "        restore_best_weights='True'\n",
        " ),\n",
        "tf.keras.callbacks.TensorBoard('tb_logs/res')\n",
        "]\n",
        "\n",
        "history = modelRes.fit(\n",
        "    train_ds,\n",
        "    epochs=50,\n",
        "    batch_size=32,\n",
        "    callbacks=callbacks,\n",
        "    validation_data=validation_ds,\n",
        ")\n",
        "\n",
        "plot_loss(history)\n",
        "plot_accuracy(history)"
      ],
      "metadata": {
        "id": "iwnddFkTfGWR"
      },
      "execution_count": null,
      "outputs": []
    },
    {
      "cell_type": "markdown",
      "source": [
        "## MOBILENET"
      ],
      "metadata": {
        "id": "ODIFVG9afKaH"
      }
    },
    {
      "cell_type": "code",
      "source": [
        "from tensorflow.keras.applications import MobileNetV2\n",
        "\n",
        "mobilenet = MobileNetV2(\n",
        "    input_shape=(256, 256, 3), include_top=False, weights=\"imagenet\", classes=100\n",
        ")\n",
        "mobilenet.trainable = True\n",
        "modelMob = Sequential()\n",
        "modelMob.add(mobilenet)\n",
        "modelMob.add(Flatten())\n",
        "modelMob.add(Dropout(0.1))\n",
        "modelMob.add(Dense(256, activation=\"leaky_relu\"))\n",
        "modelMob.add(Dropout(0.1))\n",
        "modelMob.add(Dense(128, activation=\"leaky_relu\"))\n",
        "modelMob.add(Dropout(0.1))\n",
        "modelMob.add(Dense(100, activation=\"softmax\"))\n",
        "\n",
        "modelMob.compile(\n",
        "    optimizer=\"adam\", loss=\"sparse_categorical_crossentropy\", metrics=[\"accuracy\"]\n",
        ")\n",
        "\n",
        "callbacks = [\n",
        "tf.keras.callbacks.ModelCheckpoint(\"mobile/sportsModelMobile_epoch{epoch}.h5\"),\n",
        "tf.keras.callbacks.EarlyStopping(\n",
        "        monitor='loss',\n",
        "        patience=2,\n",
        "        verbose=1,\n",
        "        restore_best_weights='True'\n",
        " ),\n",
        "tf.keras.callbacks.TensorBoard('tb_logs/mobile')\n",
        "]\n",
        "history = modelMob.fit(\n",
        "    train_ds,\n",
        "    epochs=50,\n",
        "    batch_size=32,\n",
        "    callbacks=callbacks,\n",
        "    validation_data=validation_ds,\n",
        ")\n",
        "\n",
        "plot_loss(history)\n",
        "plot_accuracy(history)"
      ],
      "metadata": {
        "id": "RJbjR8vgfTk3"
      },
      "execution_count": null,
      "outputs": []
    },
    {
      "cell_type": "markdown",
      "source": [
        "## EFFICIENTNET"
      ],
      "metadata": {
        "id": "HZo_vmOVfW3h"
      }
    },
    {
      "cell_type": "code",
      "source": [
        "from tensorflow.keras.applications import EfficientNetB3\n",
        "\n",
        "efficientnet = EfficientNetB3(\n",
        "    input_shape=(256, 256, 3), include_top=False, weights=\"imagenet\", classes=100\n",
        ")\n",
        "efficientnet.trainable = True\n",
        "modelEff = Sequential()\n",
        "modelEff.add(efficientnet)\n",
        "modelEff.add(Flatten())\n",
        "modelEff.add(Dropout(0.1))\n",
        "modelEff.add(Dense(256, activation=\"leaky_relu\"))\n",
        "modelEff.add(Dropout(0.1))\n",
        "modelEff.add(Dense(128, activation=\"leaky_relu\"))\n",
        "modelEff.add(Dropout(0.1))\n",
        "modelEff.add(Dense(100, activation=\"softmax\"))\n",
        "\n",
        "modelEff.compile(\n",
        "    optimizer=\"adam\", loss=\"sparse_categorical_crossentropy\", metrics=[\"accuracy\"]\n",
        ")\n",
        "\n",
        "callbacks = [\n",
        "tf.keras.callbacks.ModelCheckpoint(\"efficient/sportsModelEfficient_epoch{epoch}.h5\"),\n",
        "tf.keras.callbacks.EarlyStopping(\n",
        "        monitor='loss',\n",
        "        patience=2,\n",
        "        verbose=1,\n",
        "        restore_best_weights='True'\n",
        " ),\n",
        "tf.keras.callbacks.TensorBoard('tb_logs/efficient')\n",
        "]\n",
        "history = modelEff.fit(\n",
        "    train_ds,\n",
        "    epochs=50,\n",
        "    batch_size=32,\n",
        "    callbacks=callbacks,\n",
        "    validation_data=validation_ds,\n",
        ")\n",
        "\n",
        "plot_loss(history)\n",
        "plot_accuracy(history)"
      ],
      "metadata": {
        "id": "55XvSaeFfbsJ"
      },
      "execution_count": null,
      "outputs": []
    },
    {
      "cell_type": "markdown",
      "source": [
        "# PREDICTIONS"
      ],
      "metadata": {
        "id": "mMhBkjCYfoJ6"
      }
    },
    {
      "cell_type": "code",
      "source": [
        "model = tf.keras.models.load_model(\"sportsModelEfficient_epoch14.h5\")\n",
        "\n",
        "y_pred = np.array([])\n",
        "y_true = np.array([])\n",
        "for x, y in test_ds:\n",
        "    y_pred = np.concatenate([y_pred, model.predict_classes(x)])\n",
        "    y_true = np.concatenate([y_true, np.argmax(y.numpy(), axis=-1)])\n",
        "\n",
        "print(\"Classification Report: \\n\", classification_report(y_pred, y_true))"
      ],
      "metadata": {
        "id": "8s-jwadjfuJr"
      },
      "execution_count": null,
      "outputs": []
    }
  ]
}